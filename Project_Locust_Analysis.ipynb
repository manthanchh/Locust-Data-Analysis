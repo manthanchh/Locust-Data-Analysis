{
  "nbformat": 4,
  "nbformat_minor": 0,
  "metadata": {
    "colab": {
      "name": "Project : Locust Analysis",
      "provenance": [],
      "collapsed_sections": []
    },
    "kernelspec": {
      "name": "python3",
      "display_name": "Python 3"
    }
  },
  "cells": [
    {
      "cell_type": "markdown",
      "metadata": {
        "id": "C78Bbns5VpUa",
        "colab_type": "text"
      },
      "source": [
        "# **Finding the Relation between Cyclone Occurrence and Change in Warning Level of Locust attack**"
      ]
    },
    {
      "cell_type": "code",
      "metadata": {
        "id": "lkm7v54N8FPM",
        "colab_type": "code",
        "colab": {}
      },
      "source": [
        "import numpy as np\n",
        "import pandas as pd\n",
        "import matplotlib.pyplot as plt\n",
        "%matplotlib inline\n",
        "from datetime import datetime, timedelta"
      ],
      "execution_count": 282,
      "outputs": []
    },
    {
      "cell_type": "code",
      "metadata": {
        "id": "JmScqFFN8PcS",
        "colab_type": "code",
        "colab": {
          "base_uri": "https://localhost:8080/",
          "height": 190
        },
        "outputId": "d2c6714d-a3e9-4225-86f7-5356baf887d9"
      },
      "source": [
        "locust_df = pd.read_csv(\"International_Locust_Data1.csv\")\n",
        "locust_df.head()"
      ],
      "execution_count": 283,
      "outputs": [
        {
          "output_type": "execute_result",
          "data": {
            "text/html": [
              "<div>\n",
              "<style scoped>\n",
              "    .dataframe tbody tr th:only-of-type {\n",
              "        vertical-align: middle;\n",
              "    }\n",
              "\n",
              "    .dataframe tbody tr th {\n",
              "        vertical-align: top;\n",
              "    }\n",
              "\n",
              "    .dataframe thead th {\n",
              "        text-align: right;\n",
              "    }\n",
              "</style>\n",
              "<table border=\"1\" class=\"dataframe\">\n",
              "  <thead>\n",
              "    <tr style=\"text-align: right;\">\n",
              "      <th></th>\n",
              "      <th>Date</th>\n",
              "      <th>Month</th>\n",
              "      <th>Mauritania</th>\n",
              "      <th>Mali</th>\n",
              "      <th>Niger</th>\n",
              "      <th>Chad</th>\n",
              "      <th>Senegal</th>\n",
              "      <th>Algeria</th>\n",
              "      <th>Morocco</th>\n",
              "      <th>Libya</th>\n",
              "      <th>Tunisia</th>\n",
              "      <th>Sudan</th>\n",
              "      <th>Eritrea</th>\n",
              "      <th>Ethiopia</th>\n",
              "      <th>Djibouti</th>\n",
              "      <th>Somalia</th>\n",
              "      <th>Egypt</th>\n",
              "      <th>Saudi Arabia</th>\n",
              "      <th>Yemen</th>\n",
              "      <th>Oman</th>\n",
              "      <th>Iran</th>\n",
              "      <th>Pakistan</th>\n",
              "      <th>India</th>\n",
              "      <th>Afghanisthan</th>\n",
              "      <th>Cyclone Occurrence</th>\n",
              "      <th>Warning level</th>\n",
              "    </tr>\n",
              "  </thead>\n",
              "  <tbody>\n",
              "    <tr>\n",
              "      <th>0</th>\n",
              "      <td>01-01-2006</td>\n",
              "      <td>1</td>\n",
              "      <td>Yes</td>\n",
              "      <td>No</td>\n",
              "      <td>Yes</td>\n",
              "      <td>No Report</td>\n",
              "      <td>No</td>\n",
              "      <td>No</td>\n",
              "      <td>No</td>\n",
              "      <td>No</td>\n",
              "      <td>No</td>\n",
              "      <td>Yes</td>\n",
              "      <td>No Report</td>\n",
              "      <td>No</td>\n",
              "      <td>No</td>\n",
              "      <td>No Report</td>\n",
              "      <td>No</td>\n",
              "      <td>No</td>\n",
              "      <td>No</td>\n",
              "      <td>No Report</td>\n",
              "      <td>No</td>\n",
              "      <td>No</td>\n",
              "      <td>No</td>\n",
              "      <td>No Report</td>\n",
              "      <td>No</td>\n",
              "      <td>0</td>\n",
              "    </tr>\n",
              "    <tr>\n",
              "      <th>1</th>\n",
              "      <td>01-02-2006</td>\n",
              "      <td>2</td>\n",
              "      <td>Yes</td>\n",
              "      <td>No</td>\n",
              "      <td>No</td>\n",
              "      <td>No Report</td>\n",
              "      <td>No Report</td>\n",
              "      <td>No</td>\n",
              "      <td>No</td>\n",
              "      <td>Yes</td>\n",
              "      <td>No</td>\n",
              "      <td>Yes</td>\n",
              "      <td>No</td>\n",
              "      <td>No</td>\n",
              "      <td>No</td>\n",
              "      <td>No</td>\n",
              "      <td>Yes</td>\n",
              "      <td>No</td>\n",
              "      <td>No</td>\n",
              "      <td>No</td>\n",
              "      <td>No</td>\n",
              "      <td>No</td>\n",
              "      <td>No</td>\n",
              "      <td>No Report</td>\n",
              "      <td>No</td>\n",
              "      <td>0</td>\n",
              "    </tr>\n",
              "    <tr>\n",
              "      <th>2</th>\n",
              "      <td>01-03-2006</td>\n",
              "      <td>3</td>\n",
              "      <td>Yes</td>\n",
              "      <td>No</td>\n",
              "      <td>No</td>\n",
              "      <td>No</td>\n",
              "      <td>No</td>\n",
              "      <td>Yes</td>\n",
              "      <td>Yes</td>\n",
              "      <td>Yes</td>\n",
              "      <td>No</td>\n",
              "      <td>Yes</td>\n",
              "      <td>No</td>\n",
              "      <td>No</td>\n",
              "      <td>No</td>\n",
              "      <td>No</td>\n",
              "      <td>No</td>\n",
              "      <td>No</td>\n",
              "      <td>No</td>\n",
              "      <td>No</td>\n",
              "      <td>No</td>\n",
              "      <td>No</td>\n",
              "      <td>No</td>\n",
              "      <td>No Report</td>\n",
              "      <td>No</td>\n",
              "      <td>0</td>\n",
              "    </tr>\n",
              "    <tr>\n",
              "      <th>3</th>\n",
              "      <td>01-04-2006</td>\n",
              "      <td>4</td>\n",
              "      <td>Yes</td>\n",
              "      <td>Yes</td>\n",
              "      <td>No</td>\n",
              "      <td>No</td>\n",
              "      <td>No</td>\n",
              "      <td>Yes</td>\n",
              "      <td>Yes</td>\n",
              "      <td>No</td>\n",
              "      <td>No Report</td>\n",
              "      <td>No</td>\n",
              "      <td>No</td>\n",
              "      <td>No Report</td>\n",
              "      <td>No</td>\n",
              "      <td>No Report</td>\n",
              "      <td>No</td>\n",
              "      <td>No</td>\n",
              "      <td>No</td>\n",
              "      <td>No</td>\n",
              "      <td>No</td>\n",
              "      <td>No</td>\n",
              "      <td>No</td>\n",
              "      <td>No Report</td>\n",
              "      <td>No</td>\n",
              "      <td>0</td>\n",
              "    </tr>\n",
              "    <tr>\n",
              "      <th>4</th>\n",
              "      <td>01-05-2006</td>\n",
              "      <td>5</td>\n",
              "      <td>No</td>\n",
              "      <td>No</td>\n",
              "      <td>No</td>\n",
              "      <td>No Report</td>\n",
              "      <td>No</td>\n",
              "      <td>Yes</td>\n",
              "      <td>Yes</td>\n",
              "      <td>No Report</td>\n",
              "      <td>No</td>\n",
              "      <td>No</td>\n",
              "      <td>No</td>\n",
              "      <td>No</td>\n",
              "      <td>No</td>\n",
              "      <td>No</td>\n",
              "      <td>No</td>\n",
              "      <td>No</td>\n",
              "      <td>No</td>\n",
              "      <td>No</td>\n",
              "      <td>No</td>\n",
              "      <td>No</td>\n",
              "      <td>No</td>\n",
              "      <td>No Report</td>\n",
              "      <td>No</td>\n",
              "      <td>0</td>\n",
              "    </tr>\n",
              "  </tbody>\n",
              "</table>\n",
              "</div>"
            ],
            "text/plain": [
              "         Date  Month Mauritania  ... Afghanisthan Cyclone Occurrence Warning level\n",
              "0  01-01-2006      1        Yes  ...    No Report                 No             0\n",
              "1  01-02-2006      2        Yes  ...    No Report                 No             0\n",
              "2  01-03-2006      3        Yes  ...    No Report                 No             0\n",
              "3  01-04-2006      4        Yes  ...    No Report                 No             0\n",
              "4  01-05-2006      5         No  ...    No Report                 No             0\n",
              "\n",
              "[5 rows x 26 columns]"
            ]
          },
          "metadata": {
            "tags": []
          },
          "execution_count": 283
        }
      ]
    },
    {
      "cell_type": "code",
      "metadata": {
        "id": "csNYEmAp_iV_",
        "colab_type": "code",
        "colab": {}
      },
      "source": [
        "# Removing columns:\n",
        "locust_df.drop(['Month','Mauritania',\t'Mali',\t'Niger','Chad',\t'Senegal',\t'Algeria',\t'Morocco',\t'Libya',\t'Tunisia',\t'Sudan',\t'Eritrea',\t'Ethiopia'\t,'Djibouti'\t,'Somalia'\t,'Egypt'\t,'Saudi Arabia'\t,'Yemen',\t'Oman',\t'Iran',\t'Pakistan',\t'India',\t'Afghanisthan'],axis=1,inplace=True)\n",
        "locust_df.reset_index(drop=True,inplace=True)"
      ],
      "execution_count": 284,
      "outputs": []
    },
    {
      "cell_type": "code",
      "metadata": {
        "id": "wD3RLobFbtCT",
        "colab_type": "code",
        "colab": {
          "base_uri": "https://localhost:8080/",
          "height": 274
        },
        "outputId": "fd55ccb9-d373-4f9f-c84e-59359e116348"
      },
      "source": [
        "print(\"\\nWARNING LEVELS\")\n",
        "for i in set(locust_df['Warning level']):\n",
        "  print(i, \":\",Warning_level_list[i])\n",
        "locust_df.head()"
      ],
      "execution_count": 285,
      "outputs": [
        {
          "output_type": "stream",
          "text": [
            "\n",
            "WARNING LEVELS\n",
            "0 : Calm\n",
            "1 : Caution\n",
            "2 : Threat\n"
          ],
          "name": "stdout"
        },
        {
          "output_type": "execute_result",
          "data": {
            "text/html": [
              "<div>\n",
              "<style scoped>\n",
              "    .dataframe tbody tr th:only-of-type {\n",
              "        vertical-align: middle;\n",
              "    }\n",
              "\n",
              "    .dataframe tbody tr th {\n",
              "        vertical-align: top;\n",
              "    }\n",
              "\n",
              "    .dataframe thead th {\n",
              "        text-align: right;\n",
              "    }\n",
              "</style>\n",
              "<table border=\"1\" class=\"dataframe\">\n",
              "  <thead>\n",
              "    <tr style=\"text-align: right;\">\n",
              "      <th></th>\n",
              "      <th>Date</th>\n",
              "      <th>Cyclone Occurrence</th>\n",
              "      <th>Warning level</th>\n",
              "    </tr>\n",
              "  </thead>\n",
              "  <tbody>\n",
              "    <tr>\n",
              "      <th>0</th>\n",
              "      <td>01-01-2006</td>\n",
              "      <td>No</td>\n",
              "      <td>0</td>\n",
              "    </tr>\n",
              "    <tr>\n",
              "      <th>1</th>\n",
              "      <td>01-02-2006</td>\n",
              "      <td>No</td>\n",
              "      <td>0</td>\n",
              "    </tr>\n",
              "    <tr>\n",
              "      <th>2</th>\n",
              "      <td>01-03-2006</td>\n",
              "      <td>No</td>\n",
              "      <td>0</td>\n",
              "    </tr>\n",
              "    <tr>\n",
              "      <th>3</th>\n",
              "      <td>01-04-2006</td>\n",
              "      <td>No</td>\n",
              "      <td>0</td>\n",
              "    </tr>\n",
              "    <tr>\n",
              "      <th>4</th>\n",
              "      <td>01-05-2006</td>\n",
              "      <td>No</td>\n",
              "      <td>0</td>\n",
              "    </tr>\n",
              "  </tbody>\n",
              "</table>\n",
              "</div>"
            ],
            "text/plain": [
              "         Date Cyclone Occurrence  Warning level\n",
              "0  01-01-2006                 No              0\n",
              "1  01-02-2006                 No              0\n",
              "2  01-03-2006                 No              0\n",
              "3  01-04-2006                 No              0\n",
              "4  01-05-2006                 No              0"
            ]
          },
          "metadata": {
            "tags": []
          },
          "execution_count": 285
        }
      ]
    },
    {
      "cell_type": "markdown",
      "metadata": {
        "id": "EgpqETjPBL7G",
        "colab_type": "text"
      },
      "source": [
        "# Table : Dates on which Cyclone Occurred\n",
        "\n"
      ]
    },
    {
      "cell_type": "code",
      "metadata": {
        "id": "xrNe1tgLBQPB",
        "colab_type": "code",
        "colab": {
          "base_uri": "https://localhost:8080/",
          "height": 553
        },
        "outputId": "2da09885-2933-4f29-a5cc-dacff63145c7"
      },
      "source": [
        "print(\"Total Number of Months where Cyclone Occurrence is Yes  : \",len(locust_df[locust_df['Cyclone Occurrence'] == 'Yes']))\n",
        "Table = locust_df[locust_df['Cyclone Occurrence']==\"Yes\"]\n",
        "Table"
      ],
      "execution_count": 286,
      "outputs": [
        {
          "output_type": "stream",
          "text": [
            "Total Number of Months where Cyclone Occurrence is Yes  :  17\n"
          ],
          "name": "stdout"
        },
        {
          "output_type": "execute_result",
          "data": {
            "text/html": [
              "<div>\n",
              "<style scoped>\n",
              "    .dataframe tbody tr th:only-of-type {\n",
              "        vertical-align: middle;\n",
              "    }\n",
              "\n",
              "    .dataframe tbody tr th {\n",
              "        vertical-align: top;\n",
              "    }\n",
              "\n",
              "    .dataframe thead th {\n",
              "        text-align: right;\n",
              "    }\n",
              "</style>\n",
              "<table border=\"1\" class=\"dataframe\">\n",
              "  <thead>\n",
              "    <tr style=\"text-align: right;\">\n",
              "      <th></th>\n",
              "      <th>Date</th>\n",
              "      <th>Cyclone Occurrence</th>\n",
              "      <th>Warning level</th>\n",
              "    </tr>\n",
              "  </thead>\n",
              "  <tbody>\n",
              "    <tr>\n",
              "      <th>17</th>\n",
              "      <td>01-06-2007</td>\n",
              "      <td>Yes</td>\n",
              "      <td>2</td>\n",
              "    </tr>\n",
              "    <tr>\n",
              "      <th>22</th>\n",
              "      <td>01-11-2007</td>\n",
              "      <td>Yes</td>\n",
              "      <td>1</td>\n",
              "    </tr>\n",
              "    <tr>\n",
              "      <th>29</th>\n",
              "      <td>01-06-2008</td>\n",
              "      <td>Yes</td>\n",
              "      <td>1</td>\n",
              "    </tr>\n",
              "    <tr>\n",
              "      <th>33</th>\n",
              "      <td>01-10-2008</td>\n",
              "      <td>Yes</td>\n",
              "      <td>1</td>\n",
              "    </tr>\n",
              "    <tr>\n",
              "      <th>52</th>\n",
              "      <td>01-05-2010</td>\n",
              "      <td>Yes</td>\n",
              "      <td>1</td>\n",
              "    </tr>\n",
              "    <tr>\n",
              "      <th>53</th>\n",
              "      <td>01-06-2010</td>\n",
              "      <td>Yes</td>\n",
              "      <td>0</td>\n",
              "    </tr>\n",
              "    <tr>\n",
              "      <th>70</th>\n",
              "      <td>01-11-2011</td>\n",
              "      <td>Yes</td>\n",
              "      <td>0</td>\n",
              "    </tr>\n",
              "    <tr>\n",
              "      <th>105</th>\n",
              "      <td>01-10-2014</td>\n",
              "      <td>Yes</td>\n",
              "      <td>1</td>\n",
              "    </tr>\n",
              "    <tr>\n",
              "      <th>113</th>\n",
              "      <td>01-06-2015</td>\n",
              "      <td>Yes</td>\n",
              "      <td>0</td>\n",
              "    </tr>\n",
              "    <tr>\n",
              "      <th>118</th>\n",
              "      <td>01-11-2015</td>\n",
              "      <td>Yes</td>\n",
              "      <td>1</td>\n",
              "    </tr>\n",
              "    <tr>\n",
              "      <th>125</th>\n",
              "      <td>01-06-2016</td>\n",
              "      <td>Yes</td>\n",
              "      <td>1</td>\n",
              "    </tr>\n",
              "    <tr>\n",
              "      <th>148</th>\n",
              "      <td>01-05-2018</td>\n",
              "      <td>Yes</td>\n",
              "      <td>0</td>\n",
              "    </tr>\n",
              "    <tr>\n",
              "      <th>153</th>\n",
              "      <td>01-10-2018</td>\n",
              "      <td>Yes</td>\n",
              "      <td>0</td>\n",
              "    </tr>\n",
              "    <tr>\n",
              "      <th>161</th>\n",
              "      <td>01-06-2019</td>\n",
              "      <td>Yes</td>\n",
              "      <td>2</td>\n",
              "    </tr>\n",
              "    <tr>\n",
              "      <th>164</th>\n",
              "      <td>01-09-2019</td>\n",
              "      <td>Yes</td>\n",
              "      <td>2</td>\n",
              "    </tr>\n",
              "    <tr>\n",
              "      <th>165</th>\n",
              "      <td>01-10-2019</td>\n",
              "      <td>Yes</td>\n",
              "      <td>2</td>\n",
              "    </tr>\n",
              "    <tr>\n",
              "      <th>172</th>\n",
              "      <td>01-05-2020</td>\n",
              "      <td>Yes</td>\n",
              "      <td>2</td>\n",
              "    </tr>\n",
              "  </tbody>\n",
              "</table>\n",
              "</div>"
            ],
            "text/plain": [
              "           Date Cyclone Occurrence  Warning level\n",
              "17   01-06-2007                Yes              2\n",
              "22   01-11-2007                Yes              1\n",
              "29   01-06-2008                Yes              1\n",
              "33   01-10-2008                Yes              1\n",
              "52   01-05-2010                Yes              1\n",
              "53   01-06-2010                Yes              0\n",
              "70   01-11-2011                Yes              0\n",
              "105  01-10-2014                Yes              1\n",
              "113  01-06-2015                Yes              0\n",
              "118  01-11-2015                Yes              1\n",
              "125  01-06-2016                Yes              1\n",
              "148  01-05-2018                Yes              0\n",
              "153  01-10-2018                Yes              0\n",
              "161  01-06-2019                Yes              2\n",
              "164  01-09-2019                Yes              2\n",
              "165  01-10-2019                Yes              2\n",
              "172  01-05-2020                Yes              2"
            ]
          },
          "metadata": {
            "tags": []
          },
          "execution_count": 286
        }
      ]
    },
    {
      "cell_type": "markdown",
      "metadata": {
        "id": "3q2xC1A6BEzd",
        "colab_type": "text"
      },
      "source": [
        "#Enter month and year value(format: 01-Month-Year) on which Cyclone has occurred and the function Status_After_Cyclone will return a graph which shows the warning level status of 2 years duration. "
      ]
    },
    {
      "cell_type": "code",
      "metadata": {
        "id": "jjLQPnUatnwK",
        "colab_type": "code",
        "colab": {}
      },
      "source": [
        "def Status_After_Cyclone(Date_of_Cyclone_occurred):\n",
        "  # Create a subset of Dataset:\n",
        "  # To get the index of \"Date_of_Cyclone_occured\" :\n",
        "  idx = locust_df.index[locust_df[\"Date\"]== Date_of_Cyclone_occurred ]\n",
        "  idx_of_start_date = idx[0]\n",
        "  idx_of_end_date = idx_of_start_date + 30; # range of 2.5 Years\n",
        "  \n",
        "  # Creating subset Dataframe of locust dataframe:\n",
        "  subset_locust_df = locust_df.iloc[idx_of_start_date:idx_of_end_date]\n",
        "\n",
        "  #plotting Graph:\n",
        "  plt.style.use('seaborn')\n",
        "  plt.plot_date(subset_locust_df[\"Date\"],subset_locust_df[\"Warning level\"],linestyle = 'solid')\n",
        "  plt.xticks(rotation=90)\n",
        "  plt.title('Warning Level Status')\n",
        "  plt.xlabel('Dates')\n",
        "  plt.ylabel('Warning Level')"
      ],
      "execution_count": 287,
      "outputs": []
    },
    {
      "cell_type": "code",
      "metadata": {
        "id": "vrG2rE_ZwiXx",
        "colab_type": "code",
        "colab": {
          "base_uri": "https://localhost:8080/",
          "height": 518
        },
        "outputId": "cbc37d6c-131d-47f1-e896-094de949f0e8"
      },
      "source": [
        "Date_of_Cyclone_occurred = input('Date on which cyclone occurred : ')\n",
        "Status_After_Cyclone(Date_of_Cyclone_occurred)\n",
        "Warning_level_list = ['Calm','Caution','Threat']\n",
        "print(\"\\nWARNING LEVELS\")\n",
        "for i in set(locust_df['Warning level']):\n",
        "  print(i, \":\",Warning_level_list[i])"
      ],
      "execution_count": 288,
      "outputs": [
        {
          "output_type": "stream",
          "text": [
            "Date on which cyclone occurred : 01-06-2007\n",
            "\n",
            "WARNING LEVELS\n",
            "0 : Calm\n",
            "1 : Caution\n",
            "2 : Threat\n"
          ],
          "name": "stdout"
        },
        {
          "output_type": "display_data",
          "data": {
            "image/png": "[encoded data removed]",
            "text/plain": [
              "<Figure size 576x396 with 1 Axes>"
            ]
          },
          "metadata": {
            "tags": []
          }
        }
      ]
    },
    {
      "cell_type": "markdown",
      "metadata": {
        "id": "w0IzbP8CENbB",
        "colab_type": "text"
      },
      "source": [
        "# Warning Level situation from 2018 to 2020(till May)"
      ]
    },
    {
      "cell_type": "code",
      "metadata": {
        "id": "v2TURFy6EXu_",
        "colab_type": "code",
        "colab": {
          "base_uri": "https://localhost:8080/",
          "height": 484
        },
        "outputId": "1aed384f-04f8-48e4-be3f-1e68feb65b1c"
      },
      "source": [
        "Year_2018_to_2020 = '01-01-2018'\n",
        "Status_After_Cyclone(Year_2018_to_2020)\n",
        "Warning_level_list = ['Calm','Caution','Threat']\n",
        "print(\"WARNING LEVELS\")\n",
        "for i in set(locust_df['Warning level']):\n",
        "  print(i, \":\",Warning_level_list[i])"
      ],
      "execution_count": 289,
      "outputs": [
        {
          "output_type": "stream",
          "text": [
            "WARNING LEVELS\n",
            "0 : Calm\n",
            "1 : Caution\n",
            "2 : Threat\n"
          ],
          "name": "stdout"
        },
        {
          "output_type": "display_data",
          "data": {
            "image/png": "[encoded data removed]",
            "text/plain": [
              "<Figure size 576x396 with 1 Axes>"
            ]
          },
          "metadata": {
            "tags": []
          }
        }
      ]
    },
    {
      "cell_type": "markdown",
      "metadata": {
        "id": "-wWW_kuHMUPo",
        "colab_type": "text"
      },
      "source": [
        "#occurrence of cyclone during this period"
      ]
    },
    {
      "cell_type": "code",
      "metadata": {
        "id": "Wn2BnL3sRido",
        "colab_type": "code",
        "colab": {}
      },
      "source": [
        "def Occurrence_of_Cyclone(Starting_date):\n",
        "  # Create a subset of Dataset:\n",
        "  # To get the index of \"Starting_date\" :\n",
        "  idx1 = locust_df.index[locust_df[\"Date\"]== Starting_date ]\n",
        "  idx_of_start_date1 = idx1[0]\n",
        "  idx_of_end_date1 = idx_of_start_date1 + 30; # range of 2.5 Years\n",
        "  \n",
        "  # Creating subset Dataframe of locust dataframe:\n",
        "  subset_locust_df1 = locust_df.iloc[idx_of_start_date1:idx_of_end_date1]\n",
        "\n",
        "  #plotting Graph:\n",
        "  plt.style.use('seaborn')\n",
        "  plt.plot_date(subset_locust_df1[\"Date\"],subset_locust_df1[\"Warning level\"],linestyle = 'solid')\n",
        "  plt.xticks(rotation=90)\n",
        "  for label in subset_locust_df1.index: \n",
        "    if subset_locust_df1.loc[label][1] == \"Yes\":\n",
        "      plt.axvline(subset_locust_df1['Date'][label], color='r', zorder=0)\n",
        "  plt.title('Occurrence of Cyclone')\n",
        "  plt.xlabel('Dates')\n",
        "  plt.ylabel('Warning Level') "
      ],
      "execution_count": 290,
      "outputs": []
    },
    {
      "cell_type": "code",
      "metadata": {
        "id": "_hPTnpLGRt-i",
        "colab_type": "code",
        "colab": {
          "base_uri": "https://localhost:8080/",
          "height": 484
        },
        "outputId": "9c9c98d0-dacd-485a-bb9c-8adab0edeff1"
      },
      "source": [
        "Starting_date = Year_2018_to_2020\n",
        "Occurrence_of_Cyclone(Starting_date)\n",
        "Warning_level_list = ['Calm','Caution','Threat']\n",
        "print(\"WARNING LEVELS\")\n",
        "for i in set(locust_df['Warning level']):\n",
        "  print(i, \":\",Warning_level_list[i])"
      ],
      "execution_count": 291,
      "outputs": [
        {
          "output_type": "stream",
          "text": [
            "WARNING LEVELS\n",
            "0 : Calm\n",
            "1 : Caution\n",
            "2 : Threat\n"
          ],
          "name": "stdout"
        },
        {
          "output_type": "display_data",
          "data": {
            "image/png": "[encoded data removed]",
            "text/plain": [
              "<Figure size 576x396 with 1 Axes>"
            ]
          },
          "metadata": {
            "tags": []
          }
        }
      ]
    },
    {
      "cell_type": "markdown",
      "metadata": {
        "id": "Wq3eZKHJS2eX",
        "colab_type": "text"
      },
      "source": [
        "\n",
        "# **Conclusion**\n",
        "**Due to the Cyclone occurrence, the Warning level increase gradually.**\n"
      ]
    }
  ]
}
